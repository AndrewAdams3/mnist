{
 "cells": [
  {
   "cell_type": "code",
   "execution_count": 1,
   "metadata": {},
   "outputs": [],
   "source": [
    "# To support both python 2 and python 3\n",
    "from __future__ import division, print_function, unicode_literals\n",
    "\n",
    "# Common imports\n",
    "import numpy as np\n",
    "import numpy as np\n",
    "\n",
    "# to make this notebook's output stable across runs\n",
    "np.random.seed(42)\n",
    "\n",
    "# To plot pretty figures\n",
    "%matplotlib inline\n",
    "import matplotlib\n",
    "import matplotlib.pyplot as plt\n",
    "\n",
    "import pandas as pd"
   ]
  },
  {
   "cell_type": "markdown",
   "metadata": {},
   "source": [
    "# Import train and test sets"
   ]
  },
  {
   "cell_type": "code",
   "execution_count": 2,
   "metadata": {},
   "outputs": [],
   "source": [
    "train = pd.read_csv(\"datasets/mnist/mnisttrain.csv\")\n",
    "test = pd.read_csv(\"datasets/mnist/mnisttest.csv\")"
   ]
  },
  {
   "cell_type": "markdown",
   "metadata": {},
   "source": [
    "# View format of the Data"
   ]
  },
  {
   "cell_type": "code",
   "execution_count": 3,
   "metadata": {},
   "outputs": [],
   "source": [
    "train.info()"
   ]
  },
  {
   "cell_type": "code",
   "execution_count": 4,
   "metadata": {},
   "outputs": [],
   "source": [
    "train.describe()"
   ]
  },
  {
   "cell_type": "code",
   "execution_count": 5,
   "metadata": {},
   "outputs": [],
   "source": [
    "train.head()"
   ]
  },
  {
   "cell_type": "code",
   "execution_count": 6,
   "metadata": {},
   "outputs": [
    {
     "name": "stdout",
     "output_type": "stream",
     "text": [
      "pixel0    0\n",
      "pixel1    0\n",
      "pixel2    0\n",
      "pixel3    0\n",
      "pixel4    0\n",
      "Name: 1, dtype: int64\n"
     ]
    },
    {
     "data": {
      "image/png": "[encoded data removed]",
      "text/plain": [
       "<Figure size 432x288 with 1 Axes>"
      ]
     },
     "metadata": {
      "needs_background": "light"
     },
     "output_type": "display_data"
    },
    {
     "name": "stdout",
     "output_type": "stream",
     "text": [
      "Index(['label', 'pixel0', 'pixel1', 'pixel2', 'pixel3', 'pixel4', 'pixel5',\n",
      "       'pixel6', 'pixel7', 'pixel8',\n",
      "       ...\n",
      "       'pixel774', 'pixel775', 'pixel776', 'pixel777', 'pixel778', 'pixel779',\n",
      "       'pixel780', 'pixel781', 'pixel782', 'pixel783'],\n",
      "      dtype='object', length=785)\n"
     ]
    },
    {
     "data": {
      "image/png": "[encoded data removed]",
      "text/plain": [
       "<Figure size 432x288 with 1 Axes>"
      ]
     },
     "metadata": {
      "needs_background": "light"
     },
     "output_type": "display_data"
    }
   ],
   "source": [
    "# print one number\n",
    "myNumber = train.iloc[1,1:]\n",
    "print (myNumber[:5])\n",
    "myNumber=myNumber.values.reshape((28,28))\n",
    "plt.imshow(myNumber, cmap = matplotlib.cm.binary,\n",
    "           interpolation=\"nearest\")\n",
    "plt.axis(\"off\")\n",
    "plt.show()\n",
    "train['label'].hist()\n",
    "print(train.columns)"
   ]
  },
  {
   "cell_type": "markdown",
   "metadata": {},
   "source": [
    "# Introduce ML Model"
   ]
  },
  {
   "cell_type": "markdown",
   "metadata": {},
   "source": [
    "  ## After Some testing, I found LRCV to be the most promising"
   ]
  },
  {
   "cell_type": "code",
   "execution_count": 21,
   "metadata": {
    "scrolled": true
   },
   "outputs": [
    {
     "name": "stderr",
     "output_type": "stream",
     "text": [
      "[Parallel(n_jobs=1)]: Using backend SequentialBackend with 1 concurrent workers.\n"
     ]
    },
    {
     "name": "stdout",
     "output_type": "stream",
     "text": [
      "convergence after 2 epochs took 12 seconds\n",
      "convergence after 2 epochs took 15 seconds\n",
      "convergence after 2 epochs took 16 seconds\n",
      "convergence after 2 epochs took 18 seconds\n",
      "convergence after 2 epochs took 17 seconds\n",
      "convergence after 2 epochs took 18 seconds\n",
      "convergence after 2 epochs took 18 seconds\n",
      "convergence after 2 epochs took 18 seconds\n",
      "convergence after 2 epochs took 19 seconds\n",
      "convergence after 2 epochs took 20 seconds\n",
      "convergence after 2 epochs took 12 seconds\n",
      "convergence after 2 epochs took 16 seconds\n",
      "convergence after 2 epochs took 18 seconds\n",
      "convergence after 2 epochs took 18 seconds\n",
      "convergence after 2 epochs took 16 seconds\n",
      "convergence after 2 epochs took 15 seconds\n",
      "convergence after 2 epochs took 16 seconds\n",
      "convergence after 2 epochs took 17 seconds\n",
      "convergence after 2 epochs took 15 seconds\n",
      "convergence after 2 epochs took 19 seconds\n",
      "convergence after 2 epochs took 13 seconds\n",
      "convergence after 2 epochs took 14 seconds\n",
      "convergence after 2 epochs took 17 seconds\n",
      "convergence after 2 epochs took 16 seconds\n",
      "convergence after 2 epochs took 17 seconds\n",
      "convergence after 2 epochs took 16 seconds\n",
      "convergence after 2 epochs took 15 seconds\n",
      "convergence after 2 epochs took 17 seconds\n",
      "convergence after 2 epochs took 17 seconds\n",
      "convergence after 2 epochs took 13 seconds\n",
      "convergence after 2 epochs took 9 seconds\n",
      "convergence after 2 epochs took 14 seconds\n",
      "convergence after 2 epochs took 16 seconds\n",
      "convergence after 2 epochs took 15 seconds\n",
      "convergence after 2 epochs took 14 seconds\n",
      "convergence after 2 epochs took 15 seconds\n",
      "convergence after 2 epochs took 17 seconds\n",
      "convergence after 2 epochs took 20 seconds\n",
      "convergence after 2 epochs took 20 seconds\n",
      "convergence after 2 epochs took 20 seconds\n",
      "convergence after 2 epochs took 11 seconds\n",
      "convergence after 2 epochs took 17 seconds\n",
      "convergence after 2 epochs took 19 seconds\n",
      "convergence after 2 epochs took 18 seconds\n",
      "convergence after 2 epochs took 19 seconds\n",
      "convergence after 2 epochs took 18 seconds\n",
      "convergence after 2 epochs took 19 seconds\n",
      "convergence after 2 epochs took 20 seconds\n",
      "convergence after 2 epochs took 19 seconds\n",
      "convergence after 2 epochs took 20 seconds\n"
     ]
    },
    {
     "name": "stderr",
     "output_type": "stream",
     "text": [
      "[Parallel(n_jobs=1)]: Done   5 out of   5 | elapsed: 13.8min finished\n"
     ]
    },
    {
     "name": "stdout",
     "output_type": "stream",
     "text": [
      "Logistic RegressionCV Accuracy : 0.9196428571428571\n"
     ]
    }
   ],
   "source": [
    "from sklearn.linear_model import LogisticRegressionCV\n",
    "\n",
    "from sklearn.model_selection import train_test_split\n",
    "from sklearn.metrics import accuracy_score, classification_report\n",
    "\n",
    "labels=train['label']\n",
    "features = train.drop(columns=['label'])\n",
    "\n",
    "x1,x2,y1,y2 =train_test_split(features, labels, random_state=0, train_size =0.8, test_size=.2)\n",
    "\n",
    "\n",
    "#Saga solver is known to be the best solver for multi-class classification\n",
    "LRcv = LogisticRegressionCV(multi_class = 'auto', cv=5, solver='saga', tol=.4, verbose=1)\n",
    "LRcv.fit(x1, y1)\n",
    "y2_LRcv_model = LRcv.predict(x2)\n",
    "print(\"Logistic RegressionCV Accuracy :\", accuracy_score(y2, y2_LRcv_model))\n"
   ]
  },
  {
   "cell_type": "code",
   "execution_count": 22,
   "metadata": {
    "scrolled": true
   },
   "outputs": [
    {
     "name": "stdout",
     "output_type": "stream",
     "text": [
      "['0', '1', '2', '3', '4', '5', '6', '7', '8', '9']\n",
      "              precision    recall  f1-score   support\n",
      "\n",
      "           0     0.9554    0.9496    0.9525       813\n",
      "           1     0.9670    0.9771    0.9720       961\n",
      "           2     0.9309    0.9081    0.9194       860\n",
      "           3     0.9083    0.8957    0.9020       863\n",
      "           4     0.9362    0.9226    0.9294       827\n",
      "           5     0.8827    0.8558    0.8690       756\n",
      "           6     0.9091    0.9750    0.9409       841\n",
      "           7     0.9362    0.9310    0.9336       899\n",
      "           8     0.8642    0.8867    0.8753       768\n",
      "           9     0.8911    0.8768    0.8839       812\n",
      "\n",
      "   micro avg     0.9196    0.9196    0.9196      8400\n",
      "   macro avg     0.9181    0.9179    0.9178      8400\n",
      "weighted avg     0.9197    0.9196    0.9195      8400\n",
      "\n"
     ]
    }
   ],
   "source": [
    "target_names = ['0', '1', '2', '3', '4', '5', '6', '7', '8', '9']\n",
    "print(target_names)\n",
    "print(classification_report(y2, y2_LRcv_model, target_names=target_names, sample_weight=None, digits=4))"
   ]
  },
  {
   "cell_type": "code",
   "execution_count": 23,
   "metadata": {},
   "outputs": [
    {
     "name": "stdout",
     "output_type": "stream",
     "text": [
      "[3 6 9 5 6 0 6 0 0 1]\n",
      "16275    3\n",
      "19204    6\n",
      "18518    9\n",
      "25780    5\n",
      "16228    6\n",
      "15824    5\n",
      "29252    6\n",
      "28482    0\n",
      "13779    0\n",
      "25912    1\n",
      "Name: label, dtype: int64\n"
     ]
    }
   ],
   "source": [
    "print(y2_LRcv_model[0:10])\n",
    "print(y2[0:10])"
   ]
  },
  {
   "cell_type": "code",
   "execution_count": 24,
   "metadata": {},
   "outputs": [
    {
     "name": "stdout",
     "output_type": "stream",
     "text": [
      "<class 'pandas.core.frame.DataFrame'>\n",
      "RangeIndex: 28000 entries, 0 to 27999\n",
      "Columns: 784 entries, pixel0 to pixel783\n",
      "dtypes: int64(784)\n",
      "memory usage: 167.5 MB\n"
     ]
    }
   ],
   "source": [
    "test.info()\n"
   ]
  },
  {
   "cell_type": "code",
   "execution_count": 25,
   "metadata": {},
   "outputs": [],
   "source": [
    "ids = list(range(1,28001))\n",
    "#print(ids)\n",
    "hp = LRcv.predict(test)\n",
    "submission_df = {\"ImageId\": ids,\n",
    "                 \"Label\": hp}\n",
    "submission = pd.DataFrame(submission_df)\n",
    "submission.to_csv('mnist_submission.csv', index=False)"
   ]
  }
 ],
 "metadata": {
  "kernelspec": {
   "display_name": "Python 3",
   "language": "python",
   "name": "python3"
  },
  "language_info": {
   "codemirror_mode": {
    "name": "ipython",
    "version": 3
   },
   "file_extension": ".py",
   "mimetype": "text/x-python",
   "name": "python",
   "nbconvert_exporter": "python",
   "pygments_lexer": "ipython3",
   "version": "3.6.8"
  }
 },
 "nbformat": 4,
 "nbformat_minor": 2
}
